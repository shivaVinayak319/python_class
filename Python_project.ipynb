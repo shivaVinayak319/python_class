{
  "nbformat": 4,
  "nbformat_minor": 0,
  "metadata": {
    "colab": {
      "provenance": [],
      "toc_visible": true,
      "authorship_tag": "ABX9TyOyT116jZKGB/gNUTMvyTo6",
      "include_colab_link": true
    },
    "kernelspec": {
      "name": "python3",
      "display_name": "Python 3"
    },
    "language_info": {
      "name": "python"
    }
  },
  "cells": [
    {
      "cell_type": "markdown",
      "metadata": {
        "id": "view-in-github",
        "colab_type": "text"
      },
      "source": [
        "<a href=\"https://colab.research.google.com/github/shivaVinayak319/python_class/blob/main/Python_project.ipynb\" target=\"_parent\"><img src=\"https://colab.research.google.com/assets/colab-badge.svg\" alt=\"Open In Colab\"/></a>"
      ]
    },
    {
      "cell_type": "code",
      "execution_count": null,
      "metadata": {
        "id": "D3yWhVRqsExz"
      },
      "outputs": [],
      "source": []
    },
    {
      "cell_type": "markdown",
      "source": [
        "TASK 1\n",
        "1.\tBasic Python Programming\n",
        "o\tDemonstrate the use of variables, lists, dictionaries, loops, and conditional statements.\n",
        "o\tWrite at least one reusable function that performs a task relevant to your analysis.\n"
      ],
      "metadata": {
        "id": "DbVeTm7Eu8L5"
      }
    },
    {
      "cell_type": "markdown",
      "source": [],
      "metadata": {
        "id": "dMpT1SqEu7eD"
      }
    },
    {
      "cell_type": "code",
      "source": [
        "# variable declaration\n",
        "x = 10\n",
        "y= 20\n",
        "z = x +y\n",
        "print(z)"
      ],
      "metadata": {
        "colab": {
          "base_uri": "https://localhost:8080/"
        },
        "id": "rIQpjXRh5kGk",
        "outputId": "1cebf8a8-6e16-49b7-9980-fbcc73bd6f80"
      },
      "execution_count": null,
      "outputs": [
        {
          "output_type": "stream",
          "name": "stdout",
          "text": [
            "30\n"
          ]
        }
      ]
    },
    {
      "cell_type": "markdown",
      "source": [
        "lists"
      ],
      "metadata": {
        "id": "eCKhEIlZ50C7"
      }
    },
    {
      "cell_type": "code",
      "source": [
        "list=[10,20,30,40,50,60,70,80]\n",
        "print(list)\n",
        "list.append(90)\n",
        "print(list)\n",
        "list.extend([100,110])\n",
        "print(list)\n",
        "list.insert(0,20)\n",
        "print(list)\n",
        "b=list.count(20)\n",
        "print(b)"
      ],
      "metadata": {
        "colab": {
          "base_uri": "https://localhost:8080/"
        },
        "id": "RlxOQ0I-52Oa",
        "outputId": "9338cbc7-9d4d-408e-c283-7364df509a63"
      },
      "execution_count": null,
      "outputs": [
        {
          "output_type": "stream",
          "name": "stdout",
          "text": [
            "[10, 20, 30, 40, 50, 60, 70, 80]\n",
            "[10, 20, 30, 40, 50, 60, 70, 80, 90]\n",
            "[10, 20, 30, 40, 50, 60, 70, 80, 90, 100, 110]\n",
            "[20, 10, 20, 30, 40, 50, 60, 70, 80, 90, 100, 110]\n",
            "2\n"
          ]
        }
      ]
    },
    {
      "cell_type": "markdown",
      "source": [
        "dictionaries"
      ],
      "metadata": {
        "id": "Gd7N4-C-6rdg"
      }
    },
    {
      "cell_type": "code",
      "source": [
        "my_profile ={\n",
        "    \"name\":\"krishna_kumar\",\n",
        "    \"lastname\":\"cuttambakkam_somsasundar\",\n",
        "    \"DOB\":\"25/07/1987\",\n",
        "    \"age\":\"37\",\n",
        "    \"GENDER\":\"MALE\"\n",
        "}\n",
        "print(my_profile)"
      ],
      "metadata": {
        "colab": {
          "base_uri": "https://localhost:8080/"
        },
        "id": "BPc09Ctb6um0",
        "outputId": "1c940716-e7be-4c50-b19a-19071e1f6924"
      },
      "execution_count": null,
      "outputs": [
        {
          "output_type": "stream",
          "name": "stdout",
          "text": [
            "{'name': 'krishna_kumar', 'lastname': 'cuttambakkam_somsasundar', 'DOB': '25/07/1987', 'age': '37', 'GENDER': 'MALE'}\n"
          ]
        }
      ]
    },
    {
      "cell_type": "markdown",
      "source": [
        "for loop"
      ],
      "metadata": {
        "id": "eDGA9l3H-Pgf"
      }
    },
    {
      "cell_type": "code",
      "source": [
        "x = 10\n",
        "y = 50\n",
        "z= 0\n",
        "for x in range (10):\n",
        "     z = x*2\n",
        "     print(f\"the value of {z}\")\n",
        "print(\"exiting the loop\")"
      ],
      "metadata": {
        "colab": {
          "base_uri": "https://localhost:8080/"
        },
        "id": "-WjhkRVx-RSl",
        "outputId": "c194a42d-4e3b-45a3-e5d1-07ecc9be8147"
      },
      "execution_count": null,
      "outputs": [
        {
          "output_type": "stream",
          "name": "stdout",
          "text": [
            "the value of 0\n",
            "the value of 2\n",
            "the value of 4\n",
            "the value of 6\n",
            "the value of 8\n",
            "the value of 10\n",
            "the value of 12\n",
            "the value of 14\n",
            "the value of 16\n",
            "the value of 18\n",
            "exiting the loop\n"
          ]
        }
      ]
    },
    {
      "cell_type": "markdown",
      "source": [
        "while loop"
      ],
      "metadata": {
        "id": "hlNah9lp_wjQ"
      }
    },
    {
      "cell_type": "code",
      "source": [
        "x=0\n",
        "while x < 20:\n",
        " x= x+3\n",
        " # while statement exit the loop\n",
        "print(x)"
      ],
      "metadata": {
        "colab": {
          "base_uri": "https://localhost:8080/"
        },
        "id": "-XMQUG9x_0k8",
        "outputId": "04c887da-c79f-4573-e00f-eb59e00738d2"
      },
      "execution_count": null,
      "outputs": [
        {
          "output_type": "stream",
          "name": "stdout",
          "text": [
            "21\n"
          ]
        }
      ]
    },
    {
      "cell_type": "markdown",
      "source": [
        "conditional statements"
      ],
      "metadata": {
        "id": "SrTeejaGAxx0"
      }
    },
    {
      "cell_type": "code",
      "source": [
        "#if statements\n",
        "x=[10,20,30,40,50,60]\n",
        "y= 60\n",
        "if y in x:\n",
        "  a = x.index(y)\n",
        "  print(a)\n",
        "# if else statements\n",
        "a=0\n",
        "if y > x[a]:\n",
        "  a = a+1\n",
        "  print(\"y is greater than x\")\n",
        "else:\n",
        "  print(\"x is greater than y\")\n"
      ],
      "metadata": {
        "colab": {
          "base_uri": "https://localhost:8080/"
        },
        "id": "cJc8r2SJDNeu",
        "outputId": "0e63884c-ebd8-42bc-8f1a-489fbefb9a0f"
      },
      "execution_count": null,
      "outputs": [
        {
          "output_type": "stream",
          "name": "stdout",
          "text": [
            "5\n",
            "y is greater than x\n"
          ]
        }
      ]
    },
    {
      "cell_type": "markdown",
      "source": [
        "importing pandas"
      ],
      "metadata": {
        "id": "eG1KyURvxOBi"
      }
    },
    {
      "cell_type": "code",
      "source": [
        "import pandas as pd"
      ],
      "metadata": {
        "id": "lI6diK4LxMtp"
      },
      "execution_count": null,
      "outputs": []
    },
    {
      "cell_type": "code",
      "source": [
        "#reading the results file\n",
        "football_results = pd.read_csv(\"https://raw.githubusercontent.com/shivaVinayak319/python_class/main/results.csv\", delimiter=',')\n",
        "print(football_results.to_string())\n",
        "\n"
      ],
      "metadata": {
        "colab": {
          "base_uri": "https://localhost:8080/",
          "height": 193
        },
        "collapsed": true,
        "id": "y5-NoeTVxf-V",
        "outputId": "89ec8412-ae49-4a25-fc95-ed06ac89a2c7"
      },
      "execution_count": 4,
      "outputs": [
        {
          "output_type": "error",
          "ename": "NameError",
          "evalue": "name 'pd' is not defined",
          "traceback": [
            "\u001b[0;31m---------------------------------------------------------------------------\u001b[0m",
            "\u001b[0;31mNameError\u001b[0m                                 Traceback (most recent call last)",
            "\u001b[0;32m<ipython-input-4-702e9d261a70>\u001b[0m in \u001b[0;36m<cell line: 0>\u001b[0;34m()\u001b[0m\n\u001b[1;32m      1\u001b[0m \u001b[0;31m#reading the results file\u001b[0m\u001b[0;34m\u001b[0m\u001b[0;34m\u001b[0m\u001b[0m\n\u001b[0;32m----> 2\u001b[0;31m \u001b[0mfootball_results\u001b[0m \u001b[0;34m=\u001b[0m \u001b[0mpd\u001b[0m\u001b[0;34m.\u001b[0m\u001b[0mread_csv\u001b[0m\u001b[0;34m(\u001b[0m\u001b[0;34m\"https://raw.githubusercontent.com/shivaVinayak319/python_class/main/results.csv\"\u001b[0m\u001b[0;34m,\u001b[0m \u001b[0mdelimiter\u001b[0m\u001b[0;34m=\u001b[0m\u001b[0;34m','\u001b[0m\u001b[0;34m)\u001b[0m\u001b[0;34m\u001b[0m\u001b[0;34m\u001b[0m\u001b[0m\n\u001b[0m\u001b[1;32m      3\u001b[0m \u001b[0mprint\u001b[0m\u001b[0;34m(\u001b[0m\u001b[0mfootball_results\u001b[0m\u001b[0;34m.\u001b[0m\u001b[0mto_string\u001b[0m\u001b[0;34m(\u001b[0m\u001b[0;34m)\u001b[0m\u001b[0;34m)\u001b[0m\u001b[0;34m\u001b[0m\u001b[0;34m\u001b[0m\u001b[0m\n\u001b[1;32m      4\u001b[0m \u001b[0;34m\u001b[0m\u001b[0m\n",
            "\u001b[0;31mNameError\u001b[0m: name 'pd' is not defined"
          ]
        }
      ]
    },
    {
      "cell_type": "markdown",
      "source": [
        "selecting only the tournament fifa world cup"
      ],
      "metadata": {
        "id": "vujRJp--ocia"
      }
    },
    {
      "cell_type": "code",
      "source": [
        "FIFA_Qualifier = football_results.groupby(\"tournament\")"
      ],
      "metadata": {
        "id": "LV79YYyqotFq"
      },
      "execution_count": null,
      "outputs": []
    },
    {
      "cell_type": "markdown",
      "source": [
        "choosing the teams"
      ],
      "metadata": {
        "id": "i-qDX65lqAeG"
      }
    },
    {
      "cell_type": "code",
      "source": [
        "list_of_teams_A= FIFA_Qualifier.get_group(\"FIFA World Cup qualification\")"
      ],
      "metadata": {
        "id": "P8l0vpTrqHfF"
      },
      "execution_count": null,
      "outputs": []
    },
    {
      "cell_type": "markdown",
      "source": [
        "printing out the fifa world cup qualification teams"
      ],
      "metadata": {
        "id": "xPe6JfXcqfhj"
      }
    },
    {
      "cell_type": "code",
      "source": [
        "A = len(list_of_teams_A)\n",
        "print(A)\n",
        "##print(list_of_teams.to_string())"
      ],
      "metadata": {
        "colab": {
          "base_uri": "https://localhost:8080/"
        },
        "collapsed": true,
        "id": "d_U7EaQZqmZ3",
        "outputId": "f17c0b2e-9c98-46fe-c583-7f7772db5444"
      },
      "execution_count": null,
      "outputs": [
        {
          "output_type": "stream",
          "name": "stdout",
          "text": [
            "8268\n"
          ]
        }
      ]
    },
    {
      "cell_type": "code",
      "source": [
        "list_of_teams_B = FIFA_Qualifier.get_group(\"FIFA World Cup\")\n",
        "B = len(list_of_teams_B)\n",
        "print(B)"
      ],
      "metadata": {
        "colab": {
          "base_uri": "https://localhost:8080/"
        },
        "collapsed": true,
        "id": "YTvhwlHUtbb-",
        "outputId": "43e6d9a3-be16-4a6c-80c3-da4cef065bc6"
      },
      "execution_count": null,
      "outputs": [
        {
          "output_type": "stream",
          "name": "stdout",
          "text": [
            "964\n"
          ]
        }
      ]
    },
    {
      "cell_type": "code",
      "source": [
        "list_of_teams_C = FIFA_Qualifier.get_group(\"UEFA Euro\")\n",
        "C = len(list_of_teams_C)\n",
        "print(C)"
      ],
      "metadata": {
        "colab": {
          "base_uri": "https://localhost:8080/"
        },
        "id": "LWatn-oXvLch",
        "outputId": "8c62b990-3886-4d17-f4b9-18f63585455b"
      },
      "execution_count": null,
      "outputs": [
        {
          "output_type": "stream",
          "name": "stdout",
          "text": [
            "388\n"
          ]
        }
      ]
    },
    {
      "cell_type": "code",
      "source": [
        "list_of_teams_D = FIFA_Qualifier.get_group(\"British Home Championship\")\n",
        "D = len(list_of_teams_D)\n",
        "print(D)"
      ],
      "metadata": {
        "colab": {
          "base_uri": "https://localhost:8080/"
        },
        "id": "bmrVWZqVwQM9",
        "outputId": "ab28dcf4-86ca-47da-851b-95a2e8abe8be"
      },
      "execution_count": null,
      "outputs": [
        {
          "output_type": "stream",
          "name": "stdout",
          "text": [
            "517\n"
          ]
        }
      ]
    },
    {
      "cell_type": "code",
      "source": [
        "list_of_teams_E = FIFA_Qualifier.get_group(\"CONIFA World Football Cup\")\n",
        "E = len(list_of_teams_E)\n",
        "print(E)"
      ],
      "metadata": {
        "colab": {
          "base_uri": "https://localhost:8080/"
        },
        "id": "vkUPblbu9jws",
        "outputId": "bcb43711-cf71-407b-9c85-d709c6fd92da"
      },
      "execution_count": null,
      "outputs": [
        {
          "output_type": "stream",
          "name": "stdout",
          "text": [
            "101\n"
          ]
        }
      ]
    },
    {
      "cell_type": "code",
      "source": [
        "list_of_teams_F = FIFA_Qualifier.get_group(\"UEFA Nations League\")\n",
        "F = len(list_of_teams_F)\n",
        "print(F)"
      ],
      "metadata": {
        "colab": {
          "base_uri": "https://localhost:8080/"
        },
        "id": "JgOxk9Dx-HK_",
        "outputId": "15341ec6-82b8-432b-ef87-0c8ea00824a4"
      },
      "execution_count": null,
      "outputs": [
        {
          "output_type": "stream",
          "name": "stdout",
          "text": [
            "630\n"
          ]
        }
      ]
    },
    {
      "cell_type": "code",
      "source": [
        "filtered_rows = football_results[football_results[\"tournament\"] != \"Friendly\"]\n",
        "a = len(filtered_rows)\n",
        "print(a)\n",
        "##print(filtered_rows.to_string())"
      ],
      "metadata": {
        "colab": {
          "base_uri": "https://localhost:8080/",
          "height": 193
        },
        "collapsed": true,
        "id": "K4HsBdoix8ub",
        "outputId": "7dbbc039-828e-409e-e532-79324c4eaf7f"
      },
      "execution_count": 2,
      "outputs": [
        {
          "output_type": "error",
          "ename": "NameError",
          "evalue": "name 'football_results' is not defined",
          "traceback": [
            "\u001b[0;31m---------------------------------------------------------------------------\u001b[0m",
            "\u001b[0;31mNameError\u001b[0m                                 Traceback (most recent call last)",
            "\u001b[0;32m<ipython-input-2-26ac78c2e2d5>\u001b[0m in \u001b[0;36m<cell line: 0>\u001b[0;34m()\u001b[0m\n\u001b[0;32m----> 1\u001b[0;31m \u001b[0mfiltered_rows\u001b[0m \u001b[0;34m=\u001b[0m \u001b[0mfootball_results\u001b[0m\u001b[0;34m[\u001b[0m\u001b[0mfootball_results\u001b[0m\u001b[0;34m[\u001b[0m\u001b[0;34m\"tournament\"\u001b[0m\u001b[0;34m]\u001b[0m \u001b[0;34m!=\u001b[0m \u001b[0;34m\"Friendly\"\u001b[0m\u001b[0;34m]\u001b[0m\u001b[0;34m\u001b[0m\u001b[0;34m\u001b[0m\u001b[0m\n\u001b[0m\u001b[1;32m      2\u001b[0m \u001b[0ma\u001b[0m \u001b[0;34m=\u001b[0m \u001b[0mlen\u001b[0m\u001b[0;34m(\u001b[0m\u001b[0mfiltered_rows\u001b[0m\u001b[0;34m)\u001b[0m\u001b[0;34m\u001b[0m\u001b[0;34m\u001b[0m\u001b[0m\n\u001b[1;32m      3\u001b[0m \u001b[0mprint\u001b[0m\u001b[0;34m(\u001b[0m\u001b[0ma\u001b[0m\u001b[0;34m)\u001b[0m\u001b[0;34m\u001b[0m\u001b[0;34m\u001b[0m\u001b[0m\n\u001b[1;32m      4\u001b[0m \u001b[0;31m##print(filtered_rows.to_string())\u001b[0m\u001b[0;34m\u001b[0m\u001b[0;34m\u001b[0m\u001b[0m\n",
            "\u001b[0;31mNameError\u001b[0m: name 'football_results' is not defined"
          ]
        }
      ]
    },
    {
      "cell_type": "code",
      "source": [
        "unique_rows = football_results.drop_duplicates(subset=\"home_team\")\n",
        "##First_group = football_results.groupby(\"home_team\")\n",
        "unique_values = set(football_results[\"home_team\"].unique())\n",
        "for value in unique_values:\n",
        "  a = a+1\n",
        "  print(value)\n",
        "print(a)\n",
        "  ##country = First_group.get_group(value)\n",
        "  ##print(country.to_string())\n"
      ],
      "metadata": {
        "colab": {
          "base_uri": "https://localhost:8080/",
          "height": 211
        },
        "collapsed": true,
        "id": "nX0TJ-sVzkwe",
        "outputId": "ec0596ef-fff3-4c74-cd73-b6ce8c43018e"
      },
      "execution_count": 1,
      "outputs": [
        {
          "output_type": "error",
          "ename": "NameError",
          "evalue": "name 'football_results' is not defined",
          "traceback": [
            "\u001b[0;31m---------------------------------------------------------------------------\u001b[0m",
            "\u001b[0;31mNameError\u001b[0m                                 Traceback (most recent call last)",
            "\u001b[0;32m<ipython-input-1-44fcdc89b0c2>\u001b[0m in \u001b[0;36m<cell line: 0>\u001b[0;34m()\u001b[0m\n\u001b[0;32m----> 1\u001b[0;31m \u001b[0munique_rows\u001b[0m \u001b[0;34m=\u001b[0m \u001b[0mfootball_results\u001b[0m\u001b[0;34m.\u001b[0m\u001b[0mdrop_duplicates\u001b[0m\u001b[0;34m(\u001b[0m\u001b[0msubset\u001b[0m\u001b[0;34m=\u001b[0m\u001b[0;34m\"home_team\"\u001b[0m\u001b[0;34m)\u001b[0m\u001b[0;34m\u001b[0m\u001b[0;34m\u001b[0m\u001b[0m\n\u001b[0m\u001b[1;32m      2\u001b[0m \u001b[0;31m##First_group = football_results.groupby(\"home_team\")\u001b[0m\u001b[0;34m\u001b[0m\u001b[0;34m\u001b[0m\u001b[0m\n\u001b[1;32m      3\u001b[0m \u001b[0munique_values\u001b[0m \u001b[0;34m=\u001b[0m \u001b[0mset\u001b[0m\u001b[0;34m(\u001b[0m\u001b[0mfootball_results\u001b[0m\u001b[0;34m[\u001b[0m\u001b[0;34m\"home_team\"\u001b[0m\u001b[0;34m]\u001b[0m\u001b[0;34m.\u001b[0m\u001b[0munique\u001b[0m\u001b[0;34m(\u001b[0m\u001b[0;34m)\u001b[0m\u001b[0;34m)\u001b[0m\u001b[0;34m\u001b[0m\u001b[0;34m\u001b[0m\u001b[0m\n\u001b[1;32m      4\u001b[0m \u001b[0;32mfor\u001b[0m \u001b[0mvalue\u001b[0m \u001b[0;32min\u001b[0m \u001b[0munique_values\u001b[0m\u001b[0;34m:\u001b[0m\u001b[0;34m\u001b[0m\u001b[0;34m\u001b[0m\u001b[0m\n\u001b[1;32m      5\u001b[0m   \u001b[0ma\u001b[0m \u001b[0;34m=\u001b[0m \u001b[0ma\u001b[0m\u001b[0;34m+\u001b[0m\u001b[0;36m1\u001b[0m\u001b[0;34m\u001b[0m\u001b[0;34m\u001b[0m\u001b[0m\n",
            "\u001b[0;31mNameError\u001b[0m: name 'football_results' is not defined"
          ]
        }
      ]
    }
  ]
}